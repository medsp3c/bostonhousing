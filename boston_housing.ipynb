{
 "cells": [
  {
   "cell_type": "code",
   "execution_count": 14,
   "metadata": {},
   "outputs": [],
   "source": [
    "from keras import models\n",
    "from keras import layers"
   ]
  },
  {
   "cell_type": "code",
   "execution_count": 2,
   "metadata": {},
   "outputs": [
    {
     "name": "stderr",
     "output_type": "stream",
     "text": [
      "Using TensorFlow backend.\n"
     ]
    },
    {
     "name": "stdout",
     "output_type": "stream",
     "text": [
      "Downloading data from https://s3.amazonaws.com/keras-datasets/boston_housing.npz\n",
      "57344/57026 [==============================] - 0s 1us/step\n"
     ]
    }
   ],
   "source": [
    "from keras.datasets import boston_housing\n",
    "\n",
    "(x_train, y_train), (x_test, y_test) = boston_housing.load_data()"
   ]
  },
  {
   "cell_type": "code",
   "execution_count": 7,
   "metadata": {},
   "outputs": [],
   "source": [
    "\n",
    "mean = x_train.mean(axis=0)\n",
    "x_train -= mean\n",
    "std = x_train.std(axis=0)\n",
    "x_train /= std\n",
    "\n",
    "x_test -= mean\n",
    "x_test /= std\n"
   ]
  },
  {
   "cell_type": "code",
   "execution_count": 17,
   "metadata": {},
   "outputs": [],
   "source": [
    "def build_model():\n",
    "    model = models.Sequential()\n",
    "    model.add(layers.Dense(64, activation='relu', input_shape=(x_train.shape[1],)))\n",
    "    model.add(layers.Dense(64, activation='relu'))\n",
    "    model.add(layers.Dense(1))\n",
    "\n",
    "    model.compile(optimizer='rmsprop',\n",
    "              loss='mse',\n",
    "              metrics=['mae'])\n",
    "    return model"
   ]
  },
  {
   "cell_type": "code",
   "execution_count": 18,
   "metadata": {},
   "outputs": [
    {
     "name": "stderr",
     "output_type": "stream",
     "text": [
      "W0814 10:13:47.102148 140535254800128 deprecation_wrapper.py:119] From /usr/local/lib/python3.5/dist-packages/keras/backend/tensorflow_backend.py:517: The name tf.placeholder is deprecated. Please use tf.compat.v1.placeholder instead.\n",
      "\n",
      "W0814 10:13:47.106816 140535254800128 deprecation_wrapper.py:119] From /usr/local/lib/python3.5/dist-packages/keras/backend/tensorflow_backend.py:4138: The name tf.random_uniform is deprecated. Please use tf.random.uniform instead.\n",
      "\n",
      "W0814 10:13:47.148523 140535254800128 deprecation_wrapper.py:119] From /usr/local/lib/python3.5/dist-packages/keras/optimizers.py:790: The name tf.train.Optimizer is deprecated. Please use tf.compat.v1.train.Optimizer instead.\n",
      "\n",
      "W0814 10:13:47.295242 140535254800128 deprecation_wrapper.py:119] From /usr/local/lib/python3.5/dist-packages/keras/backend/tensorflow_backend.py:986: The name tf.assign_add is deprecated. Please use tf.compat.v1.assign_add instead.\n",
      "\n",
      "W0814 10:13:47.302938 140535254800128 deprecation_wrapper.py:119] From /usr/local/lib/python3.5/dist-packages/keras/backend/tensorflow_backend.py:973: The name tf.assign is deprecated. Please use tf.compat.v1.assign instead.\n",
      "\n"
     ]
    },
    {
     "name": "stdout",
     "output_type": "stream",
     "text": [
      "102/102 [==============================] - 0s 2ms/step\n"
     ]
    }
   ],
   "source": [
    "model = build_model()\n",
    "model.fit(x_train, y_train, epochs=80, batch_size=16, verbose=0)\n",
    "test_mse_score, test_mae_score = model.evaluate(x_test, y_test)"
   ]
  },
  {
   "cell_type": "code",
   "execution_count": 23,
   "metadata": {},
   "outputs": [
    {
     "name": "stdout",
     "output_type": "stream",
     "text": [
      "_________________________________________________________________\n",
      "Layer (type)                 Output Shape              Param #   \n",
      "=================================================================\n",
      "dense_1 (Dense)              (None, 64)                896       \n",
      "_________________________________________________________________\n",
      "dense_2 (Dense)              (None, 64)                4160      \n",
      "_________________________________________________________________\n",
      "dense_3 (Dense)              (None, 1)                 65        \n",
      "=================================================================\n",
      "Total params: 5,121\n",
      "Trainable params: 5,121\n",
      "Non-trainable params: 0\n",
      "_________________________________________________________________\n"
     ]
    }
   ],
   "source": [
    "model.summary()"
   ]
  },
  {
   "cell_type": "code",
   "execution_count": 21,
   "metadata": {},
   "outputs": [
    {
     "data": {
      "text/plain": [
       "array([[ 6.7412434],\n",
       "       [17.842426 ],\n",
       "       [21.60123  ],\n",
       "       [32.043785 ],\n",
       "       [25.459156 ],\n",
       "       [20.984598 ],\n",
       "       [27.02548  ],\n",
       "       [22.161282 ],\n",
       "       [17.886936 ],\n",
       "       [21.714386 ],\n",
       "       [19.106817 ],\n",
       "       [15.580902 ],\n",
       "       [14.156835 ],\n",
       "       [43.836704 ],\n",
       "       [18.28421  ],\n",
       "       [20.331535 ],\n",
       "       [25.421696 ],\n",
       "       [19.302404 ],\n",
       "       [18.795181 ],\n",
       "       [25.458221 ],\n",
       "       [ 9.468702 ],\n",
       "       [13.230426 ],\n",
       "       [21.367195 ],\n",
       "       [15.617751 ],\n",
       "       [20.684942 ],\n",
       "       [24.054955 ],\n",
       "       [27.93747  ],\n",
       "       [30.07649  ],\n",
       "       [ 9.823271 ],\n",
       "       [20.078022 ],\n",
       "       [19.657745 ],\n",
       "       [13.826329 ],\n",
       "       [33.500755 ],\n",
       "       [23.625484 ],\n",
       "       [18.287323 ],\n",
       "       [ 6.1544957],\n",
       "       [15.598292 ],\n",
       "       [17.114798 ],\n",
       "       [17.591537 ],\n",
       "       [26.771706 ],\n",
       "       [30.8693   ],\n",
       "       [28.616444 ],\n",
       "       [11.753457 ],\n",
       "       [44.054947 ],\n",
       "       [28.839725 ],\n",
       "       [25.562126 ],\n",
       "       [28.6593   ],\n",
       "       [17.915573 ],\n",
       "       [22.78989  ],\n",
       "       [22.279224 ],\n",
       "       [36.40309  ],\n",
       "       [20.458168 ],\n",
       "       [ 9.475886 ],\n",
       "       [13.767313 ],\n",
       "       [35.386375 ],\n",
       "       [28.819027 ],\n",
       "       [10.283824 ],\n",
       "       [49.446274 ],\n",
       "       [34.16182  ],\n",
       "       [22.936806 ],\n",
       "       [24.301302 ],\n",
       "       [15.070106 ],\n",
       "       [14.313115 ],\n",
       "       [19.278225 ],\n",
       "       [23.756561 ],\n",
       "       [21.105232 ],\n",
       "       [11.848197 ],\n",
       "       [22.87655  ],\n",
       "       [13.923546 ],\n",
       "       [ 5.4185534],\n",
       "       [25.103416 ],\n",
       "       [30.59622  ],\n",
       "       [25.193031 ],\n",
       "       [13.615081 ],\n",
       "       [25.755531 ],\n",
       "       [17.52697  ],\n",
       "       [19.210094 ],\n",
       "       [23.458652 ],\n",
       "       [37.05063  ],\n",
       "       [ 8.540137 ],\n",
       "       [20.867939 ],\n",
       "       [38.30903  ],\n",
       "       [15.76201  ],\n",
       "       [10.785934 ],\n",
       "       [17.419558 ],\n",
       "       [17.0864   ],\n",
       "       [19.797047 ],\n",
       "       [19.668814 ],\n",
       "       [20.8921   ],\n",
       "       [31.117693 ],\n",
       "       [19.084496 ],\n",
       "       [19.752449 ],\n",
       "       [26.093447 ],\n",
       "       [43.040604 ],\n",
       "       [37.683693 ],\n",
       "       [19.277687 ],\n",
       "       [35.8097   ],\n",
       "       [46.73147  ],\n",
       "       [24.983347 ],\n",
       "       [45.27664  ],\n",
       "       [28.702896 ],\n",
       "       [20.247456 ]], dtype=float32)"
      ]
     },
     "execution_count": 21,
     "metadata": {},
     "output_type": "execute_result"
    }
   ],
   "source": [
    "model.predict(x_test)"
   ]
  }
 ],
 "metadata": {
  "kernelspec": {
   "display_name": "Python 3",
   "language": "python",
   "name": "python3"
  },
  "language_info": {
   "codemirror_mode": {
    "name": "ipython",
    "version": 3
   },
   "file_extension": ".py",
   "mimetype": "text/x-python",
   "name": "python",
   "nbconvert_exporter": "python",
   "pygments_lexer": "ipython3",
   "version": "3.5.3"
  }
 },
 "nbformat": 4,
 "nbformat_minor": 4
}
